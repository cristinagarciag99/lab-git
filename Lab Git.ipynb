{
 "cells": [
  {
   "cell_type": "markdown",
   "id": "246b0615-aeaa-4d02-9879-eb67548039e9",
   "metadata": {
    "tags": []
   },
   "source": [
    "![logo_ironhack_blue 7](https://user-images.githubusercontent.com/23629340/40541063-a07a0a8a-601a-11e8-91b5-2f13e4e6b441.png)\n",
    "\n",
    "# Lab | Git\n",
    "\n",
    "## Introduction\n",
    "\n",
    "Being able to use both, git and GitHub, is an important skill every software/data engineer must possess. This is even more important when it comes to the ability to handle codes in collaborative projects. This lab will help you learn how to use git/GitHub and understand its importance.\n",
    "\n",
    "## Instructions\n",
    "\n",
    "1. First of all, install git if you don't have it yet, and create a GitHub account. ( _You can refer to the lesson \"Install Git and Create GitHub Account\" in the prework. Follow the guidelines given there. Additionally, you can use these resources: [Install git](https://git-scm.com/downloads), [Version control with git](http://swcarpentry.github.io/git-novice/)_)\n",
    "\n",
    "2. Create a new repository in the GitHub. Name it `Iron`+ your name. Example: if your name is _Alvaro_, you will name the repo `IronAlvaro`.\n",
    "3. Clone that repo to your computer.\n",
    "4. Create a file in that folder. Name it `about.txt` and add a fun fact about yourself. (_You can use the command line: `touch nameOfTheFile.txt`_).\n",
    "5. Add the file you just created to the git.\n",
    "6. Commit the changes.\n",
    "7. Push the changes to the GitHub and check your repository to make sure everything is there.\n",
    "\n",
    "Great! This was pretty smooth, we hope. :rocket:\n",
    "\n",
    "Now let's practice the collaboration part.\n",
    "\n",
    "### Pair Programming Exercise\n",
    "\n",
    "Pair yourself with a classmate. Send the link of your GitHub repository to your pair via Slack. Now each of you should perform the following set of actions:\n",
    "\n",
    "1. Fork your classmate's repository.\n",
    "2. Clone the repository, so that you have it locally and can make changes.\n",
    "3. Create a new branch named `classmate`.\n",
    "4. Create a new file with your name (ex. `maya.txt`) and finish the following sentence _I enrolled Ironhack's Data Analytics bootcamp because..._. When you are done, save the changes.\n",
    "5. Add the changes to the git.\n",
    "6. Commit and push the changes. Now, all the changes should be on your GitHub, inside the forked repository.\n",
    "7. Create a pull request to make changes appear in the original repository.\n",
    "8. Merge the branch your classmate created. Now everyone's repos should have the original file (`about.txt`) as well as the new one with your classmate's name.\n",
    "\n",
    "We hope you enjoyed this activity and learned something new about your classmates! :heart:"
   ]
  },
  {
   "cell_type": "code",
   "execution_count": null,
   "id": "133dda1f-c60c-4ee2-9d94-779f2096b09f",
   "metadata": {},
   "outputs": [],
   "source": []
  },
  {
   "cell_type": "code",
   "execution_count": null,
   "id": "1e65d394-11df-46f0-87ae-558434cafdc2",
   "metadata": {},
   "outputs": [],
   "source": []
  },
  {
   "cell_type": "code",
   "execution_count": null,
   "id": "8b80cd24-56c2-4625-a1fe-b59a28751434",
   "metadata": {},
   "outputs": [],
   "source": []
  }
 ],
 "metadata": {
  "kernelspec": {
   "display_name": "Python 3 (ipykernel)",
   "language": "python",
   "name": "python3"
  },
  "language_info": {
   "codemirror_mode": {
    "name": "ipython",
    "version": 3
   },
   "file_extension": ".py",
   "mimetype": "text/x-python",
   "name": "python",
   "nbconvert_exporter": "python",
   "pygments_lexer": "ipython3",
   "version": "3.9.12"
  }
 },
 "nbformat": 4,
 "nbformat_minor": 5
}
